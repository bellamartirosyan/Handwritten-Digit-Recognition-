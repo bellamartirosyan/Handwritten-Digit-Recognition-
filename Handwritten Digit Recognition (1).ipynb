{
 "cells": [
  {
   "cell_type": "code",
   "execution_count": 1,
   "id": "82808bd1-9ab1-4adc-9a8e-3d487a677862",
   "metadata": {},
   "outputs": [
    {
     "name": "stdout",
     "output_type": "stream",
     "text": [
      "Requirement already satisfied: numpy in /home/studio-lab-user/.conda/envs/default/lib/python3.9/site-packages (1.22.4)\n",
      "Note: you may need to restart the kernel to use updated packages.\n"
     ]
    }
   ],
   "source": [
    "pip install numpy"
   ]
  },
  {
   "cell_type": "code",
   "execution_count": 2,
   "id": "3721db9d-f766-4b76-9b29-c596f254d00d",
   "metadata": {},
   "outputs": [
    {
     "name": "stdout",
     "output_type": "stream",
     "text": [
      "Requirement already satisfied: tensorflow in /home/studio-lab-user/.conda/envs/default/lib/python3.9/site-packages (2.9.1)\n",
      "Requirement already satisfied: h5py>=2.9.0 in /home/studio-lab-user/.conda/envs/default/lib/python3.9/site-packages (from tensorflow) (3.7.0)\n",
      "Requirement already satisfied: gast<=0.4.0,>=0.2.1 in /home/studio-lab-user/.conda/envs/default/lib/python3.9/site-packages (from tensorflow) (0.4.0)\n",
      "Requirement already satisfied: astunparse>=1.6.0 in /home/studio-lab-user/.conda/envs/default/lib/python3.9/site-packages (from tensorflow) (1.6.3)\n",
      "Requirement already satisfied: opt-einsum>=2.3.2 in /home/studio-lab-user/.conda/envs/default/lib/python3.9/site-packages (from tensorflow) (3.3.0)\n",
      "Requirement already satisfied: protobuf<3.20,>=3.9.2 in /home/studio-lab-user/.conda/envs/default/lib/python3.9/site-packages (from tensorflow) (3.19.4)\n",
      "Requirement already satisfied: numpy>=1.20 in /home/studio-lab-user/.conda/envs/default/lib/python3.9/site-packages (from tensorflow) (1.22.4)\n",
      "Requirement already satisfied: libclang>=13.0.0 in /home/studio-lab-user/.conda/envs/default/lib/python3.9/site-packages (from tensorflow) (14.0.1)\n",
      "Requirement already satisfied: packaging in /home/studio-lab-user/.conda/envs/default/lib/python3.9/site-packages (from tensorflow) (21.3)\n",
      "Requirement already satisfied: typing-extensions>=3.6.6 in /home/studio-lab-user/.conda/envs/default/lib/python3.9/site-packages (from tensorflow) (4.2.0)\n",
      "Requirement already satisfied: tensorflow-io-gcs-filesystem>=0.23.1 in /home/studio-lab-user/.conda/envs/default/lib/python3.9/site-packages (from tensorflow) (0.26.0)\n",
      "Requirement already satisfied: google-pasta>=0.1.1 in /home/studio-lab-user/.conda/envs/default/lib/python3.9/site-packages (from tensorflow) (0.2.0)\n",
      "Requirement already satisfied: keras-preprocessing>=1.1.1 in /home/studio-lab-user/.conda/envs/default/lib/python3.9/site-packages (from tensorflow) (1.1.2)\n",
      "Requirement already satisfied: flatbuffers<2,>=1.12 in /home/studio-lab-user/.conda/envs/default/lib/python3.9/site-packages (from tensorflow) (1.12)\n",
      "Requirement already satisfied: wrapt>=1.11.0 in /home/studio-lab-user/.conda/envs/default/lib/python3.9/site-packages (from tensorflow) (1.14.1)\n",
      "Requirement already satisfied: keras<2.10.0,>=2.9.0rc0 in /home/studio-lab-user/.conda/envs/default/lib/python3.9/site-packages (from tensorflow) (2.9.0)\n",
      "Requirement already satisfied: six>=1.12.0 in /home/studio-lab-user/.conda/envs/default/lib/python3.9/site-packages (from tensorflow) (1.16.0)\n",
      "Requirement already satisfied: tensorflow-estimator<2.10.0,>=2.9.0rc0 in /home/studio-lab-user/.conda/envs/default/lib/python3.9/site-packages (from tensorflow) (2.9.0)\n",
      "Requirement already satisfied: setuptools in /home/studio-lab-user/.conda/envs/default/lib/python3.9/site-packages (from tensorflow) (62.1.0)\n",
      "Requirement already satisfied: tensorboard<2.10,>=2.9 in /home/studio-lab-user/.conda/envs/default/lib/python3.9/site-packages (from tensorflow) (2.9.1)\n",
      "Requirement already satisfied: termcolor>=1.1.0 in /home/studio-lab-user/.conda/envs/default/lib/python3.9/site-packages (from tensorflow) (1.1.0)\n",
      "Requirement already satisfied: grpcio<2.0,>=1.24.3 in /home/studio-lab-user/.conda/envs/default/lib/python3.9/site-packages (from tensorflow) (1.46.3)\n",
      "Requirement already satisfied: absl-py>=1.0.0 in /home/studio-lab-user/.conda/envs/default/lib/python3.9/site-packages (from tensorflow) (1.1.0)\n",
      "Requirement already satisfied: wheel<1.0,>=0.23.0 in /home/studio-lab-user/.conda/envs/default/lib/python3.9/site-packages (from astunparse>=1.6.0->tensorflow) (0.37.1)\n",
      "Requirement already satisfied: google-auth<3,>=1.6.3 in /home/studio-lab-user/.conda/envs/default/lib/python3.9/site-packages (from tensorboard<2.10,>=2.9->tensorflow) (2.7.0)\n",
      "Requirement already satisfied: tensorboard-data-server<0.7.0,>=0.6.0 in /home/studio-lab-user/.conda/envs/default/lib/python3.9/site-packages (from tensorboard<2.10,>=2.9->tensorflow) (0.6.1)\n",
      "Requirement already satisfied: requests<3,>=2.21.0 in /home/studio-lab-user/.conda/envs/default/lib/python3.9/site-packages (from tensorboard<2.10,>=2.9->tensorflow) (2.28.0)\n",
      "Requirement already satisfied: tensorboard-plugin-wit>=1.6.0 in /home/studio-lab-user/.conda/envs/default/lib/python3.9/site-packages (from tensorboard<2.10,>=2.9->tensorflow) (1.8.1)\n",
      "Requirement already satisfied: markdown>=2.6.8 in /home/studio-lab-user/.conda/envs/default/lib/python3.9/site-packages (from tensorboard<2.10,>=2.9->tensorflow) (3.3.7)\n",
      "Requirement already satisfied: werkzeug>=1.0.1 in /home/studio-lab-user/.conda/envs/default/lib/python3.9/site-packages (from tensorboard<2.10,>=2.9->tensorflow) (2.1.2)\n",
      "Requirement already satisfied: google-auth-oauthlib<0.5,>=0.4.1 in /home/studio-lab-user/.conda/envs/default/lib/python3.9/site-packages (from tensorboard<2.10,>=2.9->tensorflow) (0.4.6)\n",
      "Requirement already satisfied: pyparsing!=3.0.5,>=2.0.2 in /home/studio-lab-user/.conda/envs/default/lib/python3.9/site-packages (from packaging->tensorflow) (3.0.8)\n",
      "Requirement already satisfied: rsa<5,>=3.1.4 in /home/studio-lab-user/.conda/envs/default/lib/python3.9/site-packages (from google-auth<3,>=1.6.3->tensorboard<2.10,>=2.9->tensorflow) (4.8)\n",
      "Requirement already satisfied: cachetools<6.0,>=2.0.0 in /home/studio-lab-user/.conda/envs/default/lib/python3.9/site-packages (from google-auth<3,>=1.6.3->tensorboard<2.10,>=2.9->tensorflow) (5.2.0)\n",
      "Requirement already satisfied: pyasn1-modules>=0.2.1 in /home/studio-lab-user/.conda/envs/default/lib/python3.9/site-packages (from google-auth<3,>=1.6.3->tensorboard<2.10,>=2.9->tensorflow) (0.2.8)\n",
      "Requirement already satisfied: requests-oauthlib>=0.7.0 in /home/studio-lab-user/.conda/envs/default/lib/python3.9/site-packages (from google-auth-oauthlib<0.5,>=0.4.1->tensorboard<2.10,>=2.9->tensorflow) (1.3.1)\n",
      "Requirement already satisfied: importlib-metadata>=4.4 in /home/studio-lab-user/.conda/envs/default/lib/python3.9/site-packages (from markdown>=2.6.8->tensorboard<2.10,>=2.9->tensorflow) (4.11.3)\n",
      "Requirement already satisfied: urllib3<1.27,>=1.21.1 in /home/studio-lab-user/.conda/envs/default/lib/python3.9/site-packages (from requests<3,>=2.21.0->tensorboard<2.10,>=2.9->tensorflow) (1.26.9)\n",
      "Requirement already satisfied: certifi>=2017.4.17 in /home/studio-lab-user/.conda/envs/default/lib/python3.9/site-packages (from requests<3,>=2.21.0->tensorboard<2.10,>=2.9->tensorflow) (2022.5.18.1)\n",
      "Requirement already satisfied: charset-normalizer~=2.0.0 in /home/studio-lab-user/.conda/envs/default/lib/python3.9/site-packages (from requests<3,>=2.21.0->tensorboard<2.10,>=2.9->tensorflow) (2.0.12)\n",
      "Requirement already satisfied: idna<4,>=2.5 in /home/studio-lab-user/.conda/envs/default/lib/python3.9/site-packages (from requests<3,>=2.21.0->tensorboard<2.10,>=2.9->tensorflow) (3.3)\n",
      "Requirement already satisfied: zipp>=0.5 in /home/studio-lab-user/.conda/envs/default/lib/python3.9/site-packages (from importlib-metadata>=4.4->markdown>=2.6.8->tensorboard<2.10,>=2.9->tensorflow) (3.8.0)\n",
      "Requirement already satisfied: pyasn1<0.5.0,>=0.4.6 in /home/studio-lab-user/.conda/envs/default/lib/python3.9/site-packages (from pyasn1-modules>=0.2.1->google-auth<3,>=1.6.3->tensorboard<2.10,>=2.9->tensorflow) (0.4.8)\n",
      "Requirement already satisfied: oauthlib>=3.0.0 in /home/studio-lab-user/.conda/envs/default/lib/python3.9/site-packages (from requests-oauthlib>=0.7.0->google-auth-oauthlib<0.5,>=0.4.1->tensorboard<2.10,>=2.9->tensorflow) (3.2.0)\n",
      "Note: you may need to restart the kernel to use updated packages.\n"
     ]
    }
   ],
   "source": [
    "pip install  tensorflow"
   ]
  },
  {
   "cell_type": "code",
   "execution_count": 3,
   "id": "d66a38ad-a412-4c00-a261-c4788f2db8d6",
   "metadata": {},
   "outputs": [
    {
     "name": "stdout",
     "output_type": "stream",
     "text": [
      "Requirement already satisfied: keras in /home/studio-lab-user/.conda/envs/default/lib/python3.9/site-packages (2.9.0)\n",
      "Note: you may need to restart the kernel to use updated packages.\n"
     ]
    }
   ],
   "source": [
    "pip install  keras\n"
   ]
  },
  {
   "cell_type": "code",
   "execution_count": 4,
   "id": "c6498197-8c7d-45ef-9acc-fe5001dfb649",
   "metadata": {},
   "outputs": [
    {
     "name": "stdout",
     "output_type": "stream",
     "text": [
      "Requirement already satisfied: pillow in /home/studio-lab-user/.conda/envs/default/lib/python3.9/site-packages (9.1.1)\n",
      "Note: you may need to restart the kernel to use updated packages.\n"
     ]
    }
   ],
   "source": [
    "pip install  pillow"
   ]
  },
  {
   "cell_type": "code",
   "execution_count": 5,
   "id": "d8c22eaf-729c-4807-a740-ed92b1237ca2",
   "metadata": {},
   "outputs": [
    {
     "name": "stderr",
     "output_type": "stream",
     "text": [
      "2022-06-09 19:31:04.551012: W tensorflow/stream_executor/platform/default/dso_loader.cc:64] Could not load dynamic library 'libcudart.so.11.0'; dlerror: libcudart.so.11.0: cannot open shared object file: No such file or directory\n",
      "2022-06-09 19:31:04.551050: I tensorflow/stream_executor/cuda/cudart_stub.cc:29] Ignore above cudart dlerror if you do not have a GPU set up on your machine.\n"
     ]
    },
    {
     "name": "stdout",
     "output_type": "stream",
     "text": [
      "(60000, 28, 28) (60000,)\n"
     ]
    }
   ],
   "source": [
    "import keras\n",
    "from keras.datasets import mnist\n",
    "from keras.models import Sequential\n",
    "from keras.layers import Dense, Dropout, Flatten\n",
    "from keras.layers import Conv2D, MaxPooling2D\n",
    "from keras import backend as K\n",
    "\n",
    "# the data, split between train and test sets\n",
    "(x_train, y_train), (x_test, y_test) = mnist.load_data()\n",
    "\n",
    "print(x_train.shape, y_train.shape)"
   ]
  },
  {
   "cell_type": "code",
   "execution_count": null,
   "id": "689c3286-e7ea-4b34-a763-53cc3848d4b6",
   "metadata": {},
   "outputs": [],
   "source": []
  },
  {
   "cell_type": "code",
   "execution_count": null,
   "id": "33a081f4-6254-4d32-8098-fd3c74e44036",
   "metadata": {},
   "outputs": [],
   "source": []
  },
  {
   "cell_type": "code",
   "execution_count": 6,
   "id": "41500c30-2feb-4b6c-ad07-f09dee408e3e",
   "metadata": {},
   "outputs": [
    {
     "name": "stdout",
     "output_type": "stream",
     "text": [
      "x_train shape: (60000, 28, 28, 1)\n",
      "60000 train samples\n",
      "10000 test samples\n"
     ]
    }
   ],
   "source": [
    "x_train = x_train.reshape(x_train.shape[0], 28, 28, 1)\n",
    "x_test = x_test.reshape(x_test.shape[0], 28, 28, 1)\n",
    "input_shape = (28, 28, 1)\n",
    "\n",
    "# convert class vectors to binary class matrices\n",
    "y_train = keras.utils.to_categorical(y_train)\n",
    "y_test = keras.utils.to_categorical(y_test)\n",
    "\n",
    "x_train = x_train.astype('float32')\n",
    "x_test = x_test.astype('float32')\n",
    "x_train /= 255\n",
    "x_test /= 255\n",
    "print('x_train shape:', x_train.shape)\n",
    "print(x_train.shape[0], 'train samples')\n",
    "print(x_test.shape[0], 'test samples')"
   ]
  },
  {
   "cell_type": "code",
   "execution_count": 7,
   "id": "d819ae9c-cabd-40e7-9dc2-2101ab3bbde2",
   "metadata": {},
   "outputs": [
    {
     "name": "stderr",
     "output_type": "stream",
     "text": [
      "2022-06-09 19:31:06.422599: W tensorflow/stream_executor/platform/default/dso_loader.cc:64] Could not load dynamic library 'libcuda.so.1'; dlerror: libcuda.so.1: cannot open shared object file: No such file or directory\n",
      "2022-06-09 19:31:06.422631: W tensorflow/stream_executor/cuda/cuda_driver.cc:269] failed call to cuInit: UNKNOWN ERROR (303)\n",
      "2022-06-09 19:31:06.422654: I tensorflow/stream_executor/cuda/cuda_diagnostics.cc:156] kernel driver does not appear to be running on this host (default): /proc/driver/nvidia/version does not exist\n",
      "2022-06-09 19:31:06.422890: I tensorflow/core/platform/cpu_feature_guard.cc:193] This TensorFlow binary is optimized with oneAPI Deep Neural Network Library (oneDNN) to use the following CPU instructions in performance-critical operations:  AVX2 AVX512F FMA\n",
      "To enable them in other operations, rebuild TensorFlow with the appropriate compiler flags.\n"
     ]
    }
   ],
   "source": [
    "batch_size = 128\n",
    "num_classes = 10\n",
    "epochs = 32\n",
    "\n",
    "model = Sequential()\n",
    "model.add(Conv2D(32, kernel_size=(3, 3),activation='relu',input_shape=input_shape))\n",
    "model.add(Conv2D(64, (3, 3), activation='relu'))\n",
    "model.add(MaxPooling2D(pool_size=(2, 2)))\n",
    "model.add(Dropout(0.25))\n",
    "model.add(Flatten())\n",
    "model.add(Dense(256, activation='relu'))\n",
    "model.add(Dropout(0.5))\n",
    "model.add(Dense(num_classes, activation='softmax'))\n",
    "\n",
    "model.compile(loss=keras.losses.categorical_crossentropy,optimizer=keras.optimizers.Adadelta(),metrics=['accuracy'])"
   ]
  },
  {
   "cell_type": "code",
   "execution_count": 8,
   "id": "5dd7a8db-d4a1-48e4-9db3-7f8e4595fea4",
   "metadata": {},
   "outputs": [
    {
     "name": "stdout",
     "output_type": "stream",
     "text": [
      "Epoch 1/32\n",
      "469/469 [==============================] - 63s 133ms/step - loss: 2.2752 - accuracy: 0.1577 - val_loss: 2.2391 - val_accuracy: 0.3538\n",
      "Epoch 2/32\n",
      "469/469 [==============================] - 63s 133ms/step - loss: 2.2185 - accuracy: 0.2699 - val_loss: 2.1705 - val_accuracy: 0.4930\n",
      "Epoch 3/32\n",
      "469/469 [==============================] - 62s 133ms/step - loss: 2.1475 - accuracy: 0.3670 - val_loss: 2.0785 - val_accuracy: 0.6030\n",
      "Epoch 4/32\n",
      "469/469 [==============================] - 62s 133ms/step - loss: 2.0458 - accuracy: 0.4638 - val_loss: 1.9466 - val_accuracy: 0.6755\n",
      "Epoch 5/32\n",
      "469/469 [==============================] - 62s 133ms/step - loss: 1.9048 - accuracy: 0.5423 - val_loss: 1.7646 - val_accuracy: 0.7315\n",
      "Epoch 6/32\n",
      "469/469 [==============================] - 62s 132ms/step - loss: 1.7201 - accuracy: 0.6076 - val_loss: 1.5353 - val_accuracy: 0.7645\n",
      "Epoch 7/32\n",
      "469/469 [==============================] - 62s 133ms/step - loss: 1.5055 - accuracy: 0.6487 - val_loss: 1.2900 - val_accuracy: 0.7885\n",
      "Epoch 8/32\n",
      "469/469 [==============================] - 62s 132ms/step - loss: 1.3052 - accuracy: 0.6764 - val_loss: 1.0719 - val_accuracy: 0.8060\n",
      "Epoch 9/32\n",
      "469/469 [==============================] - 62s 132ms/step - loss: 1.1361 - accuracy: 0.6999 - val_loss: 0.9028 - val_accuracy: 0.8189\n",
      "Epoch 10/32\n",
      "469/469 [==============================] - 63s 133ms/step - loss: 1.0100 - accuracy: 0.7197 - val_loss: 0.7816 - val_accuracy: 0.8298\n",
      "Epoch 11/32\n",
      "469/469 [==============================] - 63s 134ms/step - loss: 0.9155 - accuracy: 0.7373 - val_loss: 0.6951 - val_accuracy: 0.8395\n",
      "Epoch 12/32\n",
      "469/469 [==============================] - 62s 133ms/step - loss: 0.8414 - accuracy: 0.7553 - val_loss: 0.6316 - val_accuracy: 0.8493\n",
      "Epoch 13/32\n",
      "469/469 [==============================] - 63s 134ms/step - loss: 0.7901 - accuracy: 0.7637 - val_loss: 0.5840 - val_accuracy: 0.8573\n",
      "Epoch 14/32\n",
      "469/469 [==============================] - 62s 133ms/step - loss: 0.7441 - accuracy: 0.7750 - val_loss: 0.5469 - val_accuracy: 0.8648\n",
      "Epoch 15/32\n",
      "469/469 [==============================] - 62s 132ms/step - loss: 0.7095 - accuracy: 0.7853 - val_loss: 0.5166 - val_accuracy: 0.8677\n",
      "Epoch 16/32\n",
      "469/469 [==============================] - 62s 132ms/step - loss: 0.6737 - accuracy: 0.7952 - val_loss: 0.4912 - val_accuracy: 0.8732\n",
      "Epoch 17/32\n",
      "469/469 [==============================] - 62s 132ms/step - loss: 0.6524 - accuracy: 0.8005 - val_loss: 0.4704 - val_accuracy: 0.8768\n",
      "Epoch 18/32\n",
      "469/469 [==============================] - 62s 132ms/step - loss: 0.6319 - accuracy: 0.8061 - val_loss: 0.4527 - val_accuracy: 0.8796\n",
      "Epoch 19/32\n",
      "469/469 [==============================] - 62s 132ms/step - loss: 0.6138 - accuracy: 0.8115 - val_loss: 0.4373 - val_accuracy: 0.8825\n",
      "Epoch 20/32\n",
      "469/469 [==============================] - 62s 133ms/step - loss: 0.5931 - accuracy: 0.8187 - val_loss: 0.4236 - val_accuracy: 0.8852\n",
      "Epoch 21/32\n",
      "469/469 [==============================] - 62s 132ms/step - loss: 0.5756 - accuracy: 0.8237 - val_loss: 0.4113 - val_accuracy: 0.8881\n",
      "Epoch 22/32\n",
      "469/469 [==============================] - 62s 132ms/step - loss: 0.5621 - accuracy: 0.8282 - val_loss: 0.4004 - val_accuracy: 0.8912\n",
      "Epoch 23/32\n",
      "469/469 [==============================] - 62s 132ms/step - loss: 0.5518 - accuracy: 0.8289 - val_loss: 0.3905 - val_accuracy: 0.8945\n",
      "Epoch 24/32\n",
      "469/469 [==============================] - 62s 133ms/step - loss: 0.5368 - accuracy: 0.8352 - val_loss: 0.3814 - val_accuracy: 0.8957\n",
      "Epoch 25/32\n",
      "469/469 [==============================] - 61s 131ms/step - loss: 0.5270 - accuracy: 0.8387 - val_loss: 0.3734 - val_accuracy: 0.8981\n",
      "Epoch 26/32\n",
      "469/469 [==============================] - 62s 132ms/step - loss: 0.5127 - accuracy: 0.8446 - val_loss: 0.3657 - val_accuracy: 0.9004\n",
      "Epoch 27/32\n",
      "469/469 [==============================] - 62s 132ms/step - loss: 0.5055 - accuracy: 0.8457 - val_loss: 0.3585 - val_accuracy: 0.9021\n",
      "Epoch 28/32\n",
      "469/469 [==============================] - 62s 132ms/step - loss: 0.4943 - accuracy: 0.8492 - val_loss: 0.3518 - val_accuracy: 0.9043\n",
      "Epoch 29/32\n",
      "469/469 [==============================] - 62s 132ms/step - loss: 0.4899 - accuracy: 0.8507 - val_loss: 0.3460 - val_accuracy: 0.9055\n",
      "Epoch 30/32\n",
      "469/469 [==============================] - 62s 133ms/step - loss: 0.4805 - accuracy: 0.8534 - val_loss: 0.3404 - val_accuracy: 0.9066\n",
      "Epoch 31/32\n",
      "469/469 [==============================] - 62s 132ms/step - loss: 0.4745 - accuracy: 0.8538 - val_loss: 0.3350 - val_accuracy: 0.9073\n",
      "Epoch 32/32\n",
      "469/469 [==============================] - 62s 132ms/step - loss: 0.4669 - accuracy: 0.8573 - val_loss: 0.3297 - val_accuracy: 0.9083\n",
      "The model has successfully trained\n",
      "Saving the model as mnist.h5\n"
     ]
    }
   ],
   "source": [
    "hist = model.fit(x_train, y_train,batch_size=batch_size,epochs=epochs,verbose=1,validation_data=(x_test, y_test))\n",
    "print(\"The model has successfully trained\")\n",
    "\n",
    "model.save('mnist.h5')\n",
    "print(\"Saving the model as mnist.h5\")"
   ]
  },
  {
   "cell_type": "code",
   "execution_count": 9,
   "id": "f85590d2-720a-445a-8e61-f46eb761a596",
   "metadata": {},
   "outputs": [
    {
     "name": "stdout",
     "output_type": "stream",
     "text": [
      "Test loss: 0.3297134339809418\n",
      "Test accuracy: 0.90829998254776\n"
     ]
    }
   ],
   "source": [
    "score = model.evaluate(x_test, y_test, verbose=0)\n",
    "print('Test loss:', score[0])\n",
    "print('Test accuracy:', score[1])"
   ]
  },
  {
   "cell_type": "code",
   "execution_count": null,
   "id": "d4bb1688-4e2c-4832-a159-44b28450af0b",
   "metadata": {},
   "outputs": [],
   "source": []
  },
  {
   "cell_type": "code",
   "execution_count": null,
   "id": "ceebdc39-0730-4699-9780-e69c54480ff8",
   "metadata": {},
   "outputs": [],
   "source": []
  }
 ],
 "metadata": {
  "kernelspec": {
   "display_name": "default:Python",
   "language": "python",
   "name": "conda-env-default-py"
  },
  "language_info": {
   "codemirror_mode": {
    "name": "ipython",
    "version": 3
   },
   "file_extension": ".py",
   "mimetype": "text/x-python",
   "name": "python",
   "nbconvert_exporter": "python",
   "pygments_lexer": "ipython3",
   "version": "3.9.12"
  }
 },
 "nbformat": 4,
 "nbformat_minor": 5
}
